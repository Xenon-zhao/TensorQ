{
 "cells": [
  {
   "attachments": {},
   "cell_type": "markdown",
   "metadata": {},
   "source": [
    "我们展示一个35比特的线路，用cirq模拟将需要256GB内存，导致cirq报错无法模拟。而使用tensorq可以完成模拟。\n",
    "\n",
    "首先，我们用cirq模拟10比特的类似线路，验证代码的正确性。"
   ]
  },
  {
   "cell_type": "code",
   "execution_count": 1,
   "metadata": {},
   "outputs": [
    {
     "name": "stdout",
     "output_type": "stream",
     "text": [
      "Circuit:\n",
      "(0, 0): ───H───@───────────────────────────────────\n",
      "               │\n",
      "(0, 1): ───────X───@───────────────────────────────\n",
      "                   │\n",
      "(0, 2): ───────────X───@───────────────────────────\n",
      "                       │\n",
      "(0, 3): ───────────────X───@───────────────────────\n",
      "                           │\n",
      "(0, 4): ───────────────────X───@───────────────────\n",
      "                               │\n",
      "(0, 5): ───────────────────────X───@───────────────\n",
      "                                   │\n",
      "(0, 6): ───────────────────────────X───@───────────\n",
      "                                       │\n",
      "(0, 7): ───────────────────────────────X───@───────\n",
      "                                           │\n",
      "(0, 8): ───────────────────────────────────X───@───\n",
      "                                               │\n",
      "(0, 9): ───────────────────────────────────────X───\n",
      "Results:\n",
      "measurements: (no measurements)\n",
      "output vector: 0.707|0000000000⟩ + 0.707|1111111111⟩\n"
     ]
    },
    {
     "name": "stderr",
     "output_type": "stream",
     "text": [
      "/tmp/ipykernel_15603/446852532.py:9: DeprecationWarning: The moments keyword parameter of cirq.Circuit was used but is deprecated.\n",
      "It will be removed in cirq v0.8.\n",
      "Pass circuit contents positionally (without a keyword).\n",
      "\n",
      "  circuit = cirq.Circuit(\n"
     ]
    }
   ],
   "source": [
    "import cirq\n",
    "\n",
    "# Set n qubit.\n",
    "n = 10\n",
    "qubits = [cirq.GridQubit(0, i) for i in range(n)]\n",
    "\n",
    "# Create a circuit\n",
    "# circuit = cirq.Circuit(cirq.Moment([cirq.H(qubits[0])]))\n",
    "circuit = cirq.Circuit(\n",
    "    moments = [\n",
    "        cirq.Moment([cirq.H(qubits[0])]),\n",
    "        (cirq.Moment([cirq.CNOT(qubits[i], qubits[i+1])]) for i in range(n-1))\n",
    "    ]\n",
    ")\n",
    "print(\"Circuit:\")\n",
    "print(circuit)\n",
    "\n",
    "# Simulate the circuit several times.\n",
    "simulator = cirq.Simulator()\n",
    "result = simulator.simulate(circuit)\n",
    "print(\"Results:\")\n",
    "print(result)"
   ]
  },
  {
   "attachments": {},
   "cell_type": "markdown",
   "metadata": {},
   "source": [
    "接下来我们把n设置为35，表示模拟35比特的线路"
   ]
  },
  {
   "cell_type": "code",
   "execution_count": 2,
   "metadata": {},
   "outputs": [
    {
     "name": "stderr",
     "output_type": "stream",
     "text": [
      "/tmp/ipykernel_15603/2928650337.py:9: DeprecationWarning: The moments keyword parameter of cirq.Circuit was used but is deprecated.\n",
      "It will be removed in cirq v0.8.\n",
      "Pass circuit contents positionally (without a keyword).\n",
      "\n",
      "  circuit = cirq.Circuit(\n"
     ]
    },
    {
     "name": "stdout",
     "output_type": "stream",
     "text": [
      "Circuit:\n",
      "(0, 0): ────H───@───────────────────────────────────────────────────────────────────────────────────────────────────────────────────────────────────────\n",
      "                │\n",
      "(0, 1): ────────X───@───────────────────────────────────────────────────────────────────────────────────────────────────────────────────────────────────\n",
      "                    │\n",
      "(0, 2): ────────────X───@───────────────────────────────────────────────────────────────────────────────────────────────────────────────────────────────\n",
      "                        │\n",
      "(0, 3): ────────────────X───@───────────────────────────────────────────────────────────────────────────────────────────────────────────────────────────\n",
      "                            │\n",
      "(0, 4): ────────────────────X───@───────────────────────────────────────────────────────────────────────────────────────────────────────────────────────\n",
      "                                │\n",
      "(0, 5): ────────────────────────X───@───────────────────────────────────────────────────────────────────────────────────────────────────────────────────\n",
      "                                    │\n",
      "(0, 6): ────────────────────────────X───@───────────────────────────────────────────────────────────────────────────────────────────────────────────────\n",
      "                                        │\n",
      "(0, 7): ────────────────────────────────X───@───────────────────────────────────────────────────────────────────────────────────────────────────────────\n",
      "                                            │\n",
      "(0, 8): ────────────────────────────────────X───@───────────────────────────────────────────────────────────────────────────────────────────────────────\n",
      "                                                │\n",
      "(0, 9): ────────────────────────────────────────X───@───────────────────────────────────────────────────────────────────────────────────────────────────\n",
      "                                                    │\n",
      "(0, 10): ───────────────────────────────────────────X───@───────────────────────────────────────────────────────────────────────────────────────────────\n",
      "                                                        │\n",
      "(0, 11): ───────────────────────────────────────────────X───@───────────────────────────────────────────────────────────────────────────────────────────\n",
      "                                                            │\n",
      "(0, 12): ───────────────────────────────────────────────────X───@───────────────────────────────────────────────────────────────────────────────────────\n",
      "                                                                │\n",
      "(0, 13): ───────────────────────────────────────────────────────X───@───────────────────────────────────────────────────────────────────────────────────\n",
      "                                                                    │\n",
      "(0, 14): ───────────────────────────────────────────────────────────X───@───────────────────────────────────────────────────────────────────────────────\n",
      "                                                                        │\n",
      "(0, 15): ───────────────────────────────────────────────────────────────X───@───────────────────────────────────────────────────────────────────────────\n",
      "                                                                            │\n",
      "(0, 16): ───────────────────────────────────────────────────────────────────X───@───────────────────────────────────────────────────────────────────────\n",
      "                                                                                │\n",
      "(0, 17): ───────────────────────────────────────────────────────────────────────X───@───────────────────────────────────────────────────────────────────\n",
      "                                                                                    │\n",
      "(0, 18): ───────────────────────────────────────────────────────────────────────────X───@───────────────────────────────────────────────────────────────\n",
      "                                                                                        │\n",
      "(0, 19): ───────────────────────────────────────────────────────────────────────────────X───@───────────────────────────────────────────────────────────\n",
      "                                                                                            │\n",
      "(0, 20): ───────────────────────────────────────────────────────────────────────────────────X───@───────────────────────────────────────────────────────\n",
      "                                                                                                │\n",
      "(0, 21): ───────────────────────────────────────────────────────────────────────────────────────X───@───────────────────────────────────────────────────\n",
      "                                                                                                    │\n",
      "(0, 22): ───────────────────────────────────────────────────────────────────────────────────────────X───@───────────────────────────────────────────────\n",
      "                                                                                                        │\n",
      "(0, 23): ───────────────────────────────────────────────────────────────────────────────────────────────X───@───────────────────────────────────────────\n",
      "                                                                                                            │\n",
      "(0, 24): ───────────────────────────────────────────────────────────────────────────────────────────────────X───@───────────────────────────────────────\n",
      "                                                                                                                │\n",
      "(0, 25): ───────────────────────────────────────────────────────────────────────────────────────────────────────X───@───────────────────────────────────\n",
      "                                                                                                                    │\n",
      "(0, 26): ───────────────────────────────────────────────────────────────────────────────────────────────────────────X───@───────────────────────────────\n",
      "                                                                                                                        │\n",
      "(0, 27): ───────────────────────────────────────────────────────────────────────────────────────────────────────────────X───@───────────────────────────\n",
      "                                                                                                                            │\n",
      "(0, 28): ───────────────────────────────────────────────────────────────────────────────────────────────────────────────────X───@───────────────────────\n",
      "                                                                                                                                │\n",
      "(0, 29): ───────────────────────────────────────────────────────────────────────────────────────────────────────────────────────X───@───────────────────\n",
      "                                                                                                                                    │\n",
      "(0, 30): ───────────────────────────────────────────────────────────────────────────────────────────────────────────────────────────X───@───────────────\n",
      "                                                                                                                                        │\n",
      "(0, 31): ───────────────────────────────────────────────────────────────────────────────────────────────────────────────────────────────X───@───────────\n",
      "                                                                                                                                            │\n",
      "(0, 32): ───────────────────────────────────────────────────────────────────────────────────────────────────────────────────────────────────X───@───────\n",
      "                                                                                                                                                │\n",
      "(0, 33): ───────────────────────────────────────────────────────────────────────────────────────────────────────────────────────────────────────X───@───\n",
      "                                                                                                                                                    │\n",
      "(0, 34): ───────────────────────────────────────────────────────────────────────────────────────────────────────────────────────────────────────────X───\n"
     ]
    },
    {
     "ename": "MemoryError",
     "evalue": "Unable to allocate 256. GiB for an array with shape (34359738368,) and data type complex64",
     "output_type": "error",
     "traceback": [
      "\u001b[0;31m---------------------------------------------------------------------------\u001b[0m",
      "\u001b[0;31mMemoryError\u001b[0m                               Traceback (most recent call last)",
      "Cell \u001b[0;32mIn[2], line 20\u001b[0m\n\u001b[1;32m     18\u001b[0m \u001b[39m# Simulate the circuit several times.\u001b[39;00m\n\u001b[1;32m     19\u001b[0m simulator \u001b[39m=\u001b[39m cirq\u001b[39m.\u001b[39mSimulator()\n\u001b[0;32m---> 20\u001b[0m result \u001b[39m=\u001b[39m simulator\u001b[39m.\u001b[39;49msimulate(circuit)\n\u001b[1;32m     21\u001b[0m \u001b[39mprint\u001b[39m(\u001b[39m\"\u001b[39m\u001b[39mResults:\u001b[39m\u001b[39m\"\u001b[39m)\n\u001b[1;32m     22\u001b[0m \u001b[39mprint\u001b[39m(result)\n",
      "File \u001b[0;32m~/.conda/envs/tensor_network/lib/python3.8/site-packages/cirq/sim/simulator.py:221\u001b[0m, in \u001b[0;36mSimulatesFinalState.simulate\u001b[0;34m(self, program, param_resolver, qubit_order, initial_state)\u001b[0m\n\u001b[1;32m    196\u001b[0m \u001b[39mdef\u001b[39;00m \u001b[39msimulate\u001b[39m(\n\u001b[1;32m    197\u001b[0m         \u001b[39mself\u001b[39m,\n\u001b[1;32m    198\u001b[0m         program: \u001b[39m'\u001b[39m\u001b[39mcirq.Circuit\u001b[39m\u001b[39m'\u001b[39m,\n\u001b[0;32m   (...)\u001b[0m\n\u001b[1;32m    201\u001b[0m         initial_state: Any \u001b[39m=\u001b[39m \u001b[39mNone\u001b[39;00m,\n\u001b[1;32m    202\u001b[0m ) \u001b[39m-\u001b[39m\u001b[39m>\u001b[39m \u001b[39m'\u001b[39m\u001b[39mSimulationTrialResult\u001b[39m\u001b[39m'\u001b[39m:\n\u001b[1;32m    203\u001b[0m     \u001b[39m\"\"\"Simulates the supplied Circuit.\u001b[39;00m\n\u001b[1;32m    204\u001b[0m \n\u001b[1;32m    205\u001b[0m \u001b[39m    This method returns a result which allows access to the entire\u001b[39;00m\n\u001b[0;32m   (...)\u001b[0m\n\u001b[1;32m    219\u001b[0m \u001b[39m        SimulationTrialResults for the simulation. Includes the final state.\u001b[39;00m\n\u001b[1;32m    220\u001b[0m \u001b[39m    \"\"\"\u001b[39;00m\n\u001b[0;32m--> 221\u001b[0m     \u001b[39mreturn\u001b[39;00m \u001b[39mself\u001b[39;49m\u001b[39m.\u001b[39;49msimulate_sweep(\n\u001b[1;32m    222\u001b[0m         program,\n\u001b[1;32m    223\u001b[0m         study\u001b[39m.\u001b[39;49mParamResolver(param_resolver),\n\u001b[1;32m    224\u001b[0m         qubit_order,\n\u001b[1;32m    225\u001b[0m         initial_state)[\u001b[39m0\u001b[39m]\n",
      "File \u001b[0;32m~/.conda/envs/tensor_network/lib/python3.8/site-packages/cirq/sim/simulator.py:302\u001b[0m, in \u001b[0;36mSimulatesIntermediateState.simulate_sweep\u001b[0;34m(self, program, params, qubit_order, initial_state)\u001b[0m\n\u001b[1;32m    299\u001b[0m all_step_results \u001b[39m=\u001b[39m \u001b[39mself\u001b[39m\u001b[39m.\u001b[39msimulate_moment_steps(\n\u001b[1;32m    300\u001b[0m     program, param_resolver, qubit_order, initial_state)\n\u001b[1;32m    301\u001b[0m measurements \u001b[39m=\u001b[39m {}  \u001b[39m# type: Dict[str, np.ndarray]\u001b[39;00m\n\u001b[0;32m--> 302\u001b[0m \u001b[39mfor\u001b[39;00m step_result \u001b[39min\u001b[39;00m all_step_results:\n\u001b[1;32m    303\u001b[0m     \u001b[39mfor\u001b[39;00m k, v \u001b[39min\u001b[39;00m step_result\u001b[39m.\u001b[39mmeasurements\u001b[39m.\u001b[39mitems():\n\u001b[1;32m    304\u001b[0m         measurements[k] \u001b[39m=\u001b[39m np\u001b[39m.\u001b[39marray(v, dtype\u001b[39m=\u001b[39mnp\u001b[39m.\u001b[39muint8)\n",
      "File \u001b[0;32m~/.conda/envs/tensor_network/lib/python3.8/site-packages/cirq/sim/sparse_simulator.py:244\u001b[0m, in \u001b[0;36mSimulator._base_iterator\u001b[0;34m(self, circuit, qubit_order, initial_state, perform_measurements)\u001b[0m\n\u001b[1;32m    242\u001b[0m qid_shape \u001b[39m=\u001b[39m protocols\u001b[39m.\u001b[39mqid_shape(qubits)\n\u001b[1;32m    243\u001b[0m qubit_map \u001b[39m=\u001b[39m {q: i \u001b[39mfor\u001b[39;00m i, q \u001b[39min\u001b[39;00m \u001b[39menumerate\u001b[39m(qubits)}\n\u001b[0;32m--> 244\u001b[0m state \u001b[39m=\u001b[39m wave_function\u001b[39m.\u001b[39;49mto_valid_state_vector(initial_state,\n\u001b[1;32m    245\u001b[0m                                             num_qubits,\n\u001b[1;32m    246\u001b[0m                                             qid_shape\u001b[39m=\u001b[39;49mqid_shape,\n\u001b[1;32m    247\u001b[0m                                             dtype\u001b[39m=\u001b[39;49m\u001b[39mself\u001b[39;49m\u001b[39m.\u001b[39;49m_dtype)\n\u001b[1;32m    248\u001b[0m \u001b[39mif\u001b[39;00m \u001b[39mlen\u001b[39m(circuit) \u001b[39m==\u001b[39m \u001b[39m0\u001b[39m:\n\u001b[1;32m    249\u001b[0m     \u001b[39myield\u001b[39;00m SparseSimulatorStep(state, {}, qubit_map, \u001b[39mself\u001b[39m\u001b[39m.\u001b[39m_dtype)\n",
      "File \u001b[0;32m~/.conda/envs/tensor_network/lib/python3.8/site-packages/cirq/sim/wave_function.py:384\u001b[0m, in \u001b[0;36mto_valid_state_vector\u001b[0;34m(state_rep, num_qubits, qid_shape, dtype, atol)\u001b[0m\n\u001b[1;32m    380\u001b[0m \u001b[39mif\u001b[39;00m num_qubits \u001b[39m!=\u001b[39m \u001b[39mlen\u001b[39m(qid_shape):\n\u001b[1;32m    381\u001b[0m     \u001b[39mraise\u001b[39;00m \u001b[39mValueError\u001b[39;00m(\u001b[39m'\u001b[39m\u001b[39mnum_qubits != len(qid_shape). num_qubits is <\u001b[39m\u001b[39m{!r}\u001b[39;00m\u001b[39m>. \u001b[39m\u001b[39m'\u001b[39m\n\u001b[1;32m    382\u001b[0m                      \u001b[39m'\u001b[39m\u001b[39mqid_shape is <\u001b[39m\u001b[39m{!r}\u001b[39;00m\u001b[39m>.\u001b[39m\u001b[39m'\u001b[39m\u001b[39m.\u001b[39mformat(num_qubits, qid_shape))\n\u001b[0;32m--> 384\u001b[0m tensor \u001b[39m=\u001b[39m _state_like_to_state_tensor(state_like\u001b[39m=\u001b[39;49mstate_rep,\n\u001b[1;32m    385\u001b[0m                                      qid_shape\u001b[39m=\u001b[39;49mqid_shape,\n\u001b[1;32m    386\u001b[0m                                      dtype\u001b[39m=\u001b[39;49mdtype,\n\u001b[1;32m    387\u001b[0m                                      atol\u001b[39m=\u001b[39;49matol)\n\u001b[1;32m    388\u001b[0m \u001b[39mreturn\u001b[39;00m tensor\u001b[39m.\u001b[39mreshape(tensor\u001b[39m.\u001b[39msize)\n",
      "File \u001b[0;32m~/.conda/envs/tensor_network/lib/python3.8/site-packages/cirq/sim/wave_function.py:397\u001b[0m, in \u001b[0;36m_state_like_to_state_tensor\u001b[0;34m(state_like, qid_shape, dtype, atol)\u001b[0m\n\u001b[1;32m    391\u001b[0m \u001b[39mdef\u001b[39;00m \u001b[39m_state_like_to_state_tensor\u001b[39m(\u001b[39m*\u001b[39m, state_like: \u001b[39m'\u001b[39m\u001b[39mcirq.STATE_VECTOR_LIKE\u001b[39m\u001b[39m'\u001b[39m,\n\u001b[1;32m    392\u001b[0m                                 qid_shape: Tuple[\u001b[39mint\u001b[39m, \u001b[39m.\u001b[39m\u001b[39m.\u001b[39m\u001b[39m.\u001b[39m],\n\u001b[1;32m    393\u001b[0m                                 dtype: Type[np\u001b[39m.\u001b[39mnumber],\n\u001b[1;32m    394\u001b[0m                                 atol: \u001b[39mfloat\u001b[39m) \u001b[39m-\u001b[39m\u001b[39m>\u001b[39m np\u001b[39m.\u001b[39mndarray:\n\u001b[1;32m    396\u001b[0m     \u001b[39mif\u001b[39;00m \u001b[39misinstance\u001b[39m(state_like, \u001b[39mint\u001b[39m):\n\u001b[0;32m--> 397\u001b[0m         \u001b[39mreturn\u001b[39;00m _computational_basis_state_to_state_tensor(state\u001b[39m=\u001b[39;49mstate_like,\n\u001b[1;32m    398\u001b[0m                                                           qid_shape\u001b[39m=\u001b[39;49mqid_shape,\n\u001b[1;32m    399\u001b[0m                                                           dtype\u001b[39m=\u001b[39;49mdtype)\n\u001b[1;32m    401\u001b[0m     \u001b[39mif\u001b[39;00m \u001b[39misinstance\u001b[39m(state_like, Sequence):\n\u001b[1;32m    402\u001b[0m         converted \u001b[39m=\u001b[39m np\u001b[39m.\u001b[39marray(state_like)\n",
      "File \u001b[0;32m~/.conda/envs/tensor_network/lib/python3.8/site-packages/cirq/sim/wave_function.py:501\u001b[0m, in \u001b[0;36m_computational_basis_state_to_state_tensor\u001b[0;34m(state, qid_shape, dtype)\u001b[0m\n\u001b[1;32m    494\u001b[0m \u001b[39mif\u001b[39;00m \u001b[39mnot\u001b[39;00m \u001b[39m0\u001b[39m \u001b[39m<\u001b[39m\u001b[39m=\u001b[39m state \u001b[39m<\u001b[39m\u001b[39m=\u001b[39m n:\n\u001b[1;32m    495\u001b[0m     \u001b[39mraise\u001b[39;00m \u001b[39mValueError\u001b[39;00m(\u001b[39mf\u001b[39m\u001b[39m'\u001b[39m\u001b[39mComputational basis state is out of range.\u001b[39m\u001b[39m\\n\u001b[39;00m\u001b[39m'\u001b[39m\n\u001b[1;32m    496\u001b[0m                      \u001b[39mf\u001b[39m\u001b[39m'\u001b[39m\u001b[39m\\n\u001b[39;00m\u001b[39m'\u001b[39m\n\u001b[1;32m    497\u001b[0m                      \u001b[39mf\u001b[39m\u001b[39m'\u001b[39m\u001b[39mstate=\u001b[39m\u001b[39m{\u001b[39;00mstate\u001b[39m!r}\u001b[39;00m\u001b[39m\\n\u001b[39;00m\u001b[39m'\u001b[39m\n\u001b[1;32m    498\u001b[0m                      \u001b[39mf\u001b[39m\u001b[39m'\u001b[39m\u001b[39mMIN_STATE=0\u001b[39m\u001b[39m\\n\u001b[39;00m\u001b[39m'\u001b[39m\n\u001b[1;32m    499\u001b[0m                      \u001b[39mf\u001b[39m\u001b[39m'\u001b[39m\u001b[39mMAX_STATE=product(qid_shape)-1=\u001b[39m\u001b[39m{\u001b[39;00mn\u001b[39m-\u001b[39m\u001b[39m1\u001b[39m\u001b[39m}\u001b[39;00m\u001b[39m\\n\u001b[39;00m\u001b[39m'\u001b[39m\n\u001b[1;32m    500\u001b[0m                      \u001b[39mf\u001b[39m\u001b[39m'\u001b[39m\u001b[39mqid_shape=\u001b[39m\u001b[39m{\u001b[39;00mqid_shape\u001b[39m!r}\u001b[39;00m\u001b[39m\\n\u001b[39;00m\u001b[39m'\u001b[39m)\n\u001b[0;32m--> 501\u001b[0m \u001b[39mreturn\u001b[39;00m linalg\u001b[39m.\u001b[39;49mone_hot(index\u001b[39m=\u001b[39;49mstate, shape\u001b[39m=\u001b[39;49mn, dtype\u001b[39m=\u001b[39;49mdtype)\u001b[39m.\u001b[39mreshape(qid_shape)\n",
      "File \u001b[0;32m~/.conda/envs/tensor_network/lib/python3.8/site-packages/cirq/linalg/states.py:40\u001b[0m, in \u001b[0;36mone_hot\u001b[0;34m(index, shape, value, dtype)\u001b[0m\n\u001b[1;32m     38\u001b[0m \u001b[39mif\u001b[39;00m index \u001b[39mis\u001b[39;00m \u001b[39mNone\u001b[39;00m:\n\u001b[1;32m     39\u001b[0m     index \u001b[39m=\u001b[39m \u001b[39m0\u001b[39m \u001b[39mif\u001b[39;00m \u001b[39misinstance\u001b[39m(shape, \u001b[39mint\u001b[39m) \u001b[39melse\u001b[39;00m (\u001b[39m0\u001b[39m,) \u001b[39m*\u001b[39m \u001b[39mlen\u001b[39m(shape)\n\u001b[0;32m---> 40\u001b[0m result \u001b[39m=\u001b[39m np\u001b[39m.\u001b[39;49mzeros(shape\u001b[39m=\u001b[39;49mshape, dtype\u001b[39m=\u001b[39;49mdtype)\n\u001b[1;32m     41\u001b[0m result[index] \u001b[39m=\u001b[39m value\n\u001b[1;32m     42\u001b[0m \u001b[39mreturn\u001b[39;00m result\n",
      "\u001b[0;31mMemoryError\u001b[0m: Unable to allocate 256. GiB for an array with shape (34359738368,) and data type complex64"
     ]
    }
   ],
   "source": [
    "import cirq\n",
    "\n",
    "# Set n qubit.\n",
    "n = 35\n",
    "qubits = [cirq.GridQubit(0, i) for i in range(n)]\n",
    "\n",
    "# Create a circuit\n",
    "# circuit = cirq.Circuit(cirq.Moment([cirq.H(qubits[0])]))\n",
    "circuit = cirq.Circuit(\n",
    "    moments = [\n",
    "        cirq.Moment([cirq.H(qubits[0])]),\n",
    "        (cirq.Moment([cirq.CNOT(qubits[i], qubits[i+1])]) for i in range(n-1))\n",
    "    ]\n",
    ")\n",
    "print(\"Circuit:\")\n",
    "print(circuit)\n",
    "\n",
    "# Simulate the circuit several times.\n",
    "simulator = cirq.Simulator()\n",
    "result = simulator.simulate(circuit)\n",
    "print(\"Results:\")\n",
    "print(result)"
   ]
  },
  {
   "attachments": {},
   "cell_type": "markdown",
   "metadata": {},
   "source": [
    "报错！需要256GB内存，无法模拟！"
   ]
  },
  {
   "attachments": {},
   "cell_type": "markdown",
   "metadata": {},
   "source": [
    "接下来，我们用tensorq模拟同样的线路\n",
    "\n",
    "首先在`circuit.py`文件中构建量子线路，然后用tensorq中的QuantumCircuit将量子子线路转换成张量网络（注意修改`circuit.py`文件后，要Restart，tensorq才能读取到新线路）"
   ]
  },
  {
   "cell_type": "code",
   "execution_count": 3,
   "metadata": {},
   "outputs": [],
   "source": [
    "from tensorq import QuantumCircuit\n",
    "n = 35\n",
    "qc_n35 = QuantumCircuit(n = n,twoqubit_simplify = False,fname = 'circuit')"
   ]
  },
  {
   "attachments": {},
   "cell_type": "markdown",
   "metadata": {},
   "source": [
    "其中，n = 35表示35个比特；twoqubit_simplify = False表示不进行两比特门优化，因为该线路中两比特门不必优化；fname = 'circuit'表示线路在文件`circuit.py`中。"
   ]
  },
  {
   "attachments": {},
   "cell_type": "markdown",
   "metadata": {},
   "source": [
    "用tensorq中的search_order搜索缩并方案"
   ]
  },
  {
   "cell_type": "code",
   "execution_count": 4,
   "metadata": {},
   "outputs": [
    {
     "name": "stdout",
     "output_type": "stream",
     "text": [
      "time complexity (tc,log10), space complexity (sc,log2), memory complexity (mc) =  (3.1535099893008374, 4.0, 3.338456493604605)\n"
     ]
    }
   ],
   "source": [
    "from tensorq import search_order\n",
    "contract_scheme = search_order(n = n,device = 'cuda',qc = qc_n35, sc_target = 24, bitstrings_txt = 'two_bitstrings_n35.txt', max_bitstrings=2)"
   ]
  },
  {
   "attachments": {},
   "cell_type": "markdown",
   "metadata": {},
   "source": [
    "其中，n = n表示n个比特；device = 'cuda' 表示用GPU进行计算，用CPU计算使用device = 'cpu'；qc = qc_n35 输入之前定义的量子线路。\n",
    "\n",
    "sc_target = 24表示限制最大张量小于24GB内存，这是tensorq中很核心的一个参数，可以根据自己的设备内存进行设置。同样的缩并任务，内存越大时间复杂度越低，内存越小将会对张量做更多的分解导致更多的浮点运算，这是用时间换空间的办法解决量子模拟中的指数墙困难。\n",
    "\n",
    "bitstrings_txt = 'two_bitstrings_n35.txt' 表示将我们需要计算振幅的比特串写在`two_bitstrings_n35.txt`文件里面，因为只有'00000000000000000000000000000000000', '11111111111111111111111111111111111' 两个比特串的振幅非0，因此这里只计算两个比特串的振幅。\n",
    "\n",
    "max_bitstrings=2，表示最多计算2两个比特串的振幅。\n",
    "\n",
    "search_order会打印该缩并方案的复杂度，时间复杂度为浮点数运算次数，以10为底的对数表示；空间复杂度为最大张量的元素个数（与sc_target单位并不相同），以2为底的对数表示；空间复杂度为最大张量元素个数乘以单个数据的存储大小（与数据类型有关）。\n"
   ]
  },
  {
   "attachments": {},
   "cell_type": "markdown",
   "metadata": {},
   "source": [
    "最后，用tensorq的contraction_single_task对张量进行缩并。"
   ]
  },
  {
   "cell_type": "code",
   "execution_count": 5,
   "metadata": {},
   "outputs": [
    {
     "name": "stdout",
     "output_type": "stream",
     "text": [
      "fianl amplitue: tensor([0.7071+0.j, 0.7071+0.j])\n"
     ]
    }
   ],
   "source": [
    "from tensorq import contraction_single_task\n",
    "tensors, scheme, slicing_indices, bitstrings = contract_scheme\n",
    "result = contraction_single_task(\n",
    "    tensors,\n",
    "    scheme,\n",
    "    slicing_indices\n",
    ")\n",
    "print('fianl amplitue:', result)"
   ]
  },
  {
   "attachments": {},
   "cell_type": "markdown",
   "metadata": {},
   "source": [
    "contract_scheme中包含了缩并张量tensors，缩并步骤scheme，切片指标slicing_indices（与张量分解有关），计算振幅的比特串bitstrings，将这些变量输入到contraction_single_task，就会返回张量网络的缩并结果，就是全部末态比特串的振幅。\n"
   ]
  },
  {
   "cell_type": "code",
   "execution_count": 6,
   "metadata": {},
   "outputs": [
    {
     "data": {
      "text/plain": [
       "{}"
      ]
     },
     "execution_count": 6,
     "metadata": {},
     "output_type": "execute_result"
    }
   ],
   "source": [
    "slicing_indices"
   ]
  },
  {
   "attachments": {},
   "cell_type": "markdown",
   "metadata": {},
   "source": [
    "在这个例子中，由于目标比特串比较少，仅通过调整张量网络的缩并顺序就可以避免出现较大的张量，因此search_order中只优化了缩并顺序，并没有采用切片策略来减小张量维度"
   ]
  }
 ],
 "metadata": {
  "kernelspec": {
   "display_name": "tensor_network",
   "language": "python",
   "name": "python3"
  },
  "language_info": {
   "codemirror_mode": {
    "name": "ipython",
    "version": 3
   },
   "file_extension": ".py",
   "mimetype": "text/x-python",
   "name": "python",
   "nbconvert_exporter": "python",
   "pygments_lexer": "ipython3",
   "version": "3.8.15"
  },
  "orig_nbformat": 4
 },
 "nbformat": 4,
 "nbformat_minor": 2
}
